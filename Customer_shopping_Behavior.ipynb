{
 "cells": [
  {
   "cell_type": "code",
   "execution_count": 47,
   "id": "b702a37e-3b56-447a-ae2e-6e1a8ba67e6a",
   "metadata": {},
   "outputs": [],
   "source": [
    "import pandas as pd\n",
    "import numpy as np\n",
    "import mysql.connector\n"
   ]
  },
  {
   "cell_type": "code",
   "execution_count": null,
   "id": "41aec142-5c12-47ba-800a-4f02a7e5ac4f",
   "metadata": {},
   "outputs": [],
   "source": [
    "# Load CSV file from your D drive\n",
    "df = pd.read_csv(r\"D:\\project\\Python project\\customer_shopping_behavior.csv\")\n",
    "\n",
    "# Display first few rows\n",
    "df.head()\n"
   ]
  },
  {
   "cell_type": "raw",
   "id": "8bbb649c-e83a-4808-94b3-41a88fc0615b",
   "metadata": {},
   "source": [
    "df.info()"
   ]
  },
  {
   "cell_type": "raw",
   "id": "110c6e8a-c20a-4681-9ab3-867c094c6c35",
   "metadata": {},
   "source": [
    "df.describe()"
   ]
  },
  {
   "cell_type": "raw",
   "id": "7c7c6489-d16a-45c8-9a0e-6fb8e20ebab4",
   "metadata": {},
   "source": [
    "df.describe(include='all')"
   ]
  },
  {
   "cell_type": "raw",
   "id": "14cae551-ae4b-45d9-9e1d-ee1062148082",
   "metadata": {},
   "source": [
    "df.isnull().sum()"
   ]
  },
  {
   "cell_type": "code",
   "execution_count": 53,
   "id": "816fad89-e9e6-4c29-8b50-5fce9bdd36a0",
   "metadata": {},
   "outputs": [],
   "source": [
    "df['Review Rating'] = df.groupby('Category')['Review Rating'].transform(lambda x: x.fillna(x.median()))"
   ]
  },
  {
   "cell_type": "raw",
   "id": "4a77c617-75a1-42c1-9857-8e2c5e1bbc72",
   "metadata": {},
   "source": [
    "df.isnull().sum()"
   ]
  },
  {
   "cell_type": "code",
   "execution_count": 55,
   "id": "9f2f6c57-c777-455a-af56-9793cc42d347",
   "metadata": {},
   "outputs": [],
   "source": [
    "df.columns = df.columns.str.lower()\n",
    "df.columns = df.columns.str.replace(' ','_')\n",
    "df = df.rename(columns = {'purchase_amount_(usd)':'purchase_amount'})"
   ]
  },
  {
   "cell_type": "code",
   "execution_count": 56,
   "id": "441dfd4f-16e0-4092-a83b-4a3bc963f3ea",
   "metadata": {},
   "outputs": [],
   "source": [
    "labels = ['Young Adult','Adult','Middle Aged','Senior']\n",
    "df['age_group'] = pd.qcut(df['age'],q=4,labels = labels)"
   ]
  },
  {
   "cell_type": "raw",
   "id": "21ac6f8b-4010-4f9a-80a0-3876bd87e9e7",
   "metadata": {},
   "source": [
    "df[['age','age_group']].head(10)"
   ]
  },
  {
   "cell_type": "code",
   "execution_count": 58,
   "id": "f1a2b229-4979-43ec-8aa8-b596094be1b2",
   "metadata": {},
   "outputs": [],
   "source": [
    "frequency_mapping = {\n",
    "    'Fortnightly': 14,\n",
    "    'Weekly':7,\n",
    "    'Monthly':30,\n",
    "    'Quarterly':90,\n",
    "    'Bi-Weekly':14,\n",
    "    'Annually':365,\n",
    "    'Every 3 Months':90\n",
    "}\n",
    "df['purchase_frequency_days'] = df['frequency_of_purchases'].map(frequency_mapping)"
   ]
  },
  {
   "cell_type": "raw",
   "id": "6055fd0e-abae-478c-9656-b3d2605e43b0",
   "metadata": {},
   "source": [
    "df[['purchase_frequency_days','frequency_of_purchases']].head(10)"
   ]
  },
  {
   "cell_type": "raw",
   "id": "a3c39a02-2fe7-458e-9990-1c33345180f9",
   "metadata": {},
   "source": [
    "df[['discount_applied','promo_code_used']].head(10)"
   ]
  },
  {
   "cell_type": "code",
   "execution_count": 61,
   "id": "a05c07d2-3b4c-4a88-9b1e-0a0708acf16e",
   "metadata": {},
   "outputs": [
    {
     "data": {
      "text/plain": [
       "np.True_"
      ]
     },
     "execution_count": 61,
     "metadata": {},
     "output_type": "execute_result"
    }
   ],
   "source": [
    "(df['discount_applied'] == df['promo_code_used']).all()"
   ]
  },
  {
   "cell_type": "code",
   "execution_count": 62,
   "id": "0f4c8d66-95a9-4192-9cd4-b57f98fd4318",
   "metadata": {},
   "outputs": [],
   "source": [
    "df = df.drop('promo_code_used',axis=1)"
   ]
  },
  {
   "cell_type": "raw",
   "id": "1b81821a-fba6-443e-af2e-4b3596b62163",
   "metadata": {},
   "source": [
    "df.columns"
   ]
  },
  {
   "cell_type": "raw",
   "id": "0a233c07-3914-4c88-8466-952d8d94474c",
   "metadata": {},
   "source": [
    "!pip install pymysql sqlalchemy"
   ]
  },
  {
   "cell_type": "raw",
   "id": "dbd8ec6f-5d0e-467b-acd0-d9fa643d7d19",
   "metadata": {},
   "source": [
    "!pip install pandas sqlalchemy mysql-connector-python"
   ]
  },
  {
   "cell_type": "code",
   "execution_count": 66,
   "id": "6158395e-c133-4050-b1e5-cd00af205fe8",
   "metadata": {},
   "outputs": [],
   "source": [
    "import pandas as pd\n",
    "from sqlalchemy import create_engine\n",
    "from urllib.parse import quote_plus\n",
    "\n",
    "username = \"root\"\n",
    "password = quote_plus(\"Uggu@20\")  # encode special chars\n",
    "host = \"localhost\"\n",
    "port = \"3306\"\n",
    "database = \"customer_db\"\n",
    "\n",
    "engine = create_engine(f\"mysql+pymysql://{username}:{password}@{host}:{port}/{database}\")\n",
    "\n"
   ]
  },
  {
   "cell_type": "raw",
   "id": "1525307e-c017-468a-8bbf-8465a50a7522",
   "metadata": {},
   "source": [
    "table_name = \"customer_shopping\"\n",
    "df.to_sql(table_name, engine, if_exists=\"replace\", index=False)\n",
    "\n",
    "# Check first 5 rows\n",
    "sample_df = pd.read_sql(f\"SELECT * FROM {table_name} LIMIT 5;\", engine)\n",
    "print(sample_df)\n",
    "\n"
   ]
  },
  {
   "cell_type": "code",
   "execution_count": 68,
   "id": "55205eb6-b1c7-4845-81f4-1a9177dae120",
   "metadata": {},
   "outputs": [
    {
     "name": "stdout",
     "output_type": "stream",
     "text": [
      "['customer_shopping']\n"
     ]
    }
   ],
   "source": [
    "from sqlalchemy import inspect\n",
    "\n",
    "inspector = inspect(engine)\n",
    "tables = inspector.get_table_names()\n",
    "print(tables)\n"
   ]
  },
  {
   "cell_type": "code",
   "execution_count": 70,
   "id": "275bbead-bfdc-46b2-9236-a0ff984685da",
   "metadata": {},
   "outputs": [],
   "source": [
    "df.to_csv(r\"D:\\project\\cleaned_customer_data.csv\", index=False)\n"
   ]
  },
  {
   "cell_type": "code",
   "execution_count": null,
   "id": "070213a6-9a3d-4263-ad1c-2397825399a9",
   "metadata": {},
   "outputs": [],
   "source": []
  }
 ],
 "metadata": {
  "kernelspec": {
   "display_name": "Python 3 (ipykernel)",
   "language": "python",
   "name": "python3"
  },
  "language_info": {
   "codemirror_mode": {
    "name": "ipython",
    "version": 3
   },
   "file_extension": ".py",
   "mimetype": "text/x-python",
   "name": "python",
   "nbconvert_exporter": "python",
   "pygments_lexer": "ipython3",
   "version": "3.13.9"
  }
 },
 "nbformat": 4,
 "nbformat_minor": 5
}
